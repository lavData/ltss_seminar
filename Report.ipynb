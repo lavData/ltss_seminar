{
  "nbformat": 4,
  "nbformat_minor": 0,
  "metadata": {
    "colab": {
      "provenance": [],
      "gpuType": "T4",
      "authorship_tag": "ABX9TyOBgTRS44QrEauPslqeYPPi",
      "include_colab_link": true
    },
    "kernelspec": {
      "name": "python3",
      "display_name": "Python 3"
    },
    "language_info": {
      "name": "python"
    },
    "accelerator": "GPU",
    "gpuClass": "standard"
  },
  "cells": [
    {
      "cell_type": "markdown",
      "metadata": {
        "id": "view-in-github",
        "colab_type": "text"
      },
      "source": [
        "<a href=\"https://colab.research.google.com/github/lavData/ltss_seminar/blob/main/Report.ipynb\" target=\"_parent\"><img src=\"https://colab.research.google.com/assets/colab-badge.svg\" alt=\"Open In Colab\"/></a>"
      ]
    },
    {
      "cell_type": "markdown",
      "source": [
        "# Concurrent Linear Hashing\n",
        "\n",
        "```\n",
        "# This is formatted as code\n",
        "```\n",
        "\n"
      ],
      "metadata": {
        "id": "TQO1CrqZ04rp"
      }
    },
    {
      "cell_type": "markdown",
      "source": [
        "# Linear Hashing"
      ],
      "metadata": {
        "id": "2eiwOBA11Xxt"
      }
    },
    {
      "cell_type": "markdown",
      "source": [
        "### What is Linear Hashing?\n",
        "---"
      ],
      "metadata": {
        "id": "TrTi2qXMzBlv"
      }
    },
    {
      "cell_type": "markdown",
      "source": [
        "Linear Hashing là một kỹ thuật băm (hashing) cho phép không gian địa chỉ có thể tăng hoặc giảm động dựa trên lượng dữ liệu được lưu trữ. Điều này cho phép tệp tin hoặc bảng có thể hỗ trợ bất kỳ số lượng thêm vào hoặc xóa bỏ nào mà không ảnh hưởng đến hiệu suất truy cập hay sử dụng bộ nhớ. Trong Linear Hashing, một bản ghi trong tệp tin hoặc bảng có thể được tìm thấy trong một thao tác truy cập, trong khi đó tải (load) có thể duy trì ở mức gần 90%. Trong trường hợp bảng, một bản ghi trung bình có thể được tìm thấy trong 1.7 lần truy cập, trong khi tải luôn ổn định ở mức 80%. Hiện tại, không có thuật toán nào khác có thể đạt được hiệu suất tốt như vậy."
      ],
      "metadata": {
        "id": "HF-Rutrt1b6u"
      }
    },
    {
      "cell_type": "markdown",
      "source": [
        "Các cấu trúc dữ liệu cơ bản nhất là các tệp tin (files) và các bảng (tables) được xác định bởi một khóa chính (primary key). Trong đó, kỹ thuật băm (hashing) và các cây (B-tree, binary tree,..) là các kỹ thuật địa chỉ cơ bản cho các tệp tin và bảng này. Có hàng nghìn công trình nghiên cứu đã giải quyết vấn đề này.\n",
        "\n",
        "Nếu một tệp tin hoặc bảng gần như tĩnh, thì kỹ thuật băm cho phép tìm thấy một bản ghi trong một lần truy cập. Một cây luôn yêu cầu nhiều lần truy cập. Tuy nhiên, khi tệp tin hoặc bảng, như thường lệ, có tính động, thì cây vẫn hoạt động tương đối tốt, trong khi hiệu suất của kỹ thuật băm có thể trở nên rất kém. Thậm chí có thể cần phải thực hiện lại toàn bộ quá trình băm để đưa tất cả các bản ghi vào một tệp tin mới. "
      ],
      "metadata": {
        "id": "a-98pKbU1d5B"
      }
    },
    {
      "cell_type": "markdown",
      "source": [
        "Linear Hashing là một cấu trúc chỉ mục (index structure) dựa trên đĩa, cho phép cập nhật, mở rộng hoặc thu nhỏ một thùng (bucket) một cách linh hoạt (dynamically), hay còn gọi là một kỹ thuật băm động (dynamic hashing scheme). Cấu trúc chỉ mục này được sử dụng để tìm kiếm bản ghi tương ứng với một khóa cụ thể hoặc để tạo thuận tiện cho việc tìm kiếm trùng khớp chính xác.\n",
        "\n",
        "Phương pháp này được gọi là Linear Hashing bởi vì số lượng thùng tăng hoặc giảm một cách tuyến tính. Số lượng hàm băm mà hệ thống có thể sử dụng cùng một lúc thay đổi động."
      ],
      "metadata": {
        "id": "JLlzCEWMy4o3"
      }
    },
    {
      "cell_type": "markdown",
      "source": [
        "### The distinction between linear hashing and other hashing\n",
        "\n",
        "---\n",
        "\n"
      ],
      "metadata": {
        "id": "Ogro4caGy8CE"
      }
    },
    {
      "cell_type": "markdown",
      "source": [
        "- Cấu trúc Linear Hashing không yêu cầu sử dụng thư mục (directory) để lưu trữ các bản ghi, giúp giảm thiểu độ phức tạp và tăng tốc độ truy cập.\n",
        "\n",
        "- Linear Hashing có khả năng xử lý các chuỗi tràn (overflow chains) dài, giúp tối ưu hóa sử dụng không gian lưu trữ và tránh tình trạng tràn.\n",
        "\n",
        "- Linear Hashing linh hoạt hơn về thời điểm chia (split) các thùng, giúp tối ưu hóa hiệu suất và giảm thiểu khả năng xảy ra tình trạng tràn.\n",
        "\n",
        "- Linear Hashing cho phép chúng ta mở rộng một slot (khe) một cách linh hoạt, giúp tối ưu hóa sử dụng không gian lưu trữ và giảm thiểu khả năng xảy ra tình trạng tràn."
      ],
      "metadata": {
        "id": "fs6e9U5bzna2"
      }
    },
    {
      "cell_type": "code",
      "source": [
        "from numba import njit, prange, types, typed, int64, float64, boolean\n",
        "import random\n",
        "\n",
        "class LinearHash:\n",
        "    def __init__(self, size=2, threshold=0.75):\n",
        "        self.size = size\n",
        "        self.threshold = threshold\n",
        "        self.count = 0\n",
        "        self.data = typed.List()\n",
        "        for i in range(self.size):\n",
        "            self.data.append(typed.List.empty_list(types.Tuple((int64, float64))))\n",
        "\n",
        "    @njit(parallel=True)\n",
        "    def hash_func(self, key):\n",
        "        return hash(key) % self.size\n",
        "\n",
        "    @njit(parallel=True)\n",
        "    def add(self, key, value):\n",
        "        if self.count >= self.size * self.threshold:\n",
        "            self.size *= 2\n",
        "            self.rehash()\n",
        "\n",
        "        index = self.hash_func(key)\n",
        "        bucket = self.data[index]\n",
        "        for i in prange(len(bucket)):\n",
        "            if bucket[i][0] == key:\n",
        "                bucket[i] = (key, value)\n",
        "                return\n",
        "        bucket.append((key, value))\n",
        "        self.count += 1\n",
        "\n",
        "    @njit(parallel=True)\n",
        "    def get(self, key):\n",
        "        index = self.hash_func(key)\n",
        "        bucket = self.data[index]\n",
        "        for i in prange(len(bucket)):\n",
        "            if bucket[i][0] == key:\n",
        "                return bucket[i][1]\n",
        "        return None\n",
        "\n",
        "    @njit(parallel=True)\n",
        "    def remove(self, key):\n",
        "        index = self.hash_func(key)\n",
        "        bucket = self.data[index]\n",
        "        for i in prange(len(bucket)):\n",
        "            if bucket[i][0] == key:\n",
        "                bucket.pop(i)\n",
        "                self.count -= 1\n",
        "                return\n",
        "        raise KeyError(\"Key not found\")\n",
        "\n",
        "    @njit(parallel=True)\n",
        "    def rehash(self):\n",
        "        new_data = typed.List()\n",
        "        for i in range(self.size):\n",
        "            new_data.append(typed.List.empty_list(types.Tuple((int64, float64))))\n",
        "\n",
        "        for bucket in self.data:\n",
        "            for key, value in bucket:\n",
        "                index = self.hash_func(key)\n",
        "                new_data[index].append((key, value))\n",
        "        self.data = new_data\n",
        "\n",
        "    def __str__(self):\n",
        "        result = \"\"\n",
        "        for bucket in self.data:\n",
        "            for key, value in bucket:\n",
        "                result += str(key) + \" -> \" + str(value) + \"\\n\"\n",
        "        return result"
      ],
      "metadata": {
        "id": "vSHcz-rcFD0R"
      },
      "execution_count": 18,
      "outputs": []
    },
    {
      "cell_type": "code",
      "source": [
        "lh = LinearHash()\n",
        "lh.add(1, 100)\n",
        "lh.add(2, 200)\n",
        "lh.add(3, 300)\n",
        "\n",
        "print(lh.get(1)) # in ra 100\n",
        "print(lh.get(2)) # in ra 200\n",
        "print(lh.get(3)) # in ra 300\n",
        "\n",
        "lh.remove(2)\n",
        "print(lh.get(2)) # in ra None"
      ],
      "metadata": {
        "colab": {
          "base_uri": "https://localhost:8080/",
          "height": 554
        },
        "id": "217W6HQF9VET",
        "outputId": "fe491bfc-8b45-4057-d596-69c4e0cc11e6"
      },
      "execution_count": 19,
      "outputs": [
        {
          "output_type": "error",
          "ename": "TypingError",
          "evalue": "ignored",
          "traceback": [
            "\u001b[0;31m---------------------------------------------------------------------------\u001b[0m",
            "\u001b[0;31mTypingError\u001b[0m                               Traceback (most recent call last)",
            "\u001b[0;32m<ipython-input-19-2cbce71f1dc9>\u001b[0m in \u001b[0;36m<cell line: 2>\u001b[0;34m()\u001b[0m\n\u001b[1;32m      1\u001b[0m \u001b[0mlh\u001b[0m \u001b[0;34m=\u001b[0m \u001b[0mLinearHash\u001b[0m\u001b[0;34m(\u001b[0m\u001b[0;34m)\u001b[0m\u001b[0;34m\u001b[0m\u001b[0;34m\u001b[0m\u001b[0m\n\u001b[0;32m----> 2\u001b[0;31m \u001b[0mlh\u001b[0m\u001b[0;34m.\u001b[0m\u001b[0madd\u001b[0m\u001b[0;34m(\u001b[0m\u001b[0;36m1\u001b[0m\u001b[0;34m,\u001b[0m \u001b[0;36m100\u001b[0m\u001b[0;34m)\u001b[0m\u001b[0;34m\u001b[0m\u001b[0;34m\u001b[0m\u001b[0m\n\u001b[0m\u001b[1;32m      3\u001b[0m \u001b[0mlh\u001b[0m\u001b[0;34m.\u001b[0m\u001b[0madd\u001b[0m\u001b[0;34m(\u001b[0m\u001b[0;36m2\u001b[0m\u001b[0;34m,\u001b[0m \u001b[0;36m200\u001b[0m\u001b[0;34m)\u001b[0m\u001b[0;34m\u001b[0m\u001b[0;34m\u001b[0m\u001b[0m\n\u001b[1;32m      4\u001b[0m \u001b[0mlh\u001b[0m\u001b[0;34m.\u001b[0m\u001b[0madd\u001b[0m\u001b[0;34m(\u001b[0m\u001b[0;36m3\u001b[0m\u001b[0;34m,\u001b[0m \u001b[0;36m300\u001b[0m\u001b[0;34m)\u001b[0m\u001b[0;34m\u001b[0m\u001b[0;34m\u001b[0m\u001b[0m\n\u001b[1;32m      5\u001b[0m \u001b[0;34m\u001b[0m\u001b[0m\n",
            "\u001b[0;32m/usr/local/lib/python3.10/dist-packages/numba/core/dispatcher.py\u001b[0m in \u001b[0;36m_compile_for_args\u001b[0;34m(self, *args, **kws)\u001b[0m\n\u001b[1;32m    466\u001b[0m                 \u001b[0me\u001b[0m\u001b[0;34m.\u001b[0m\u001b[0mpatch_message\u001b[0m\u001b[0;34m(\u001b[0m\u001b[0mmsg\u001b[0m\u001b[0;34m)\u001b[0m\u001b[0;34m\u001b[0m\u001b[0;34m\u001b[0m\u001b[0m\n\u001b[1;32m    467\u001b[0m \u001b[0;34m\u001b[0m\u001b[0m\n\u001b[0;32m--> 468\u001b[0;31m             \u001b[0merror_rewrite\u001b[0m\u001b[0;34m(\u001b[0m\u001b[0me\u001b[0m\u001b[0;34m,\u001b[0m \u001b[0;34m'typing'\u001b[0m\u001b[0;34m)\u001b[0m\u001b[0;34m\u001b[0m\u001b[0;34m\u001b[0m\u001b[0m\n\u001b[0m\u001b[1;32m    469\u001b[0m         \u001b[0;32mexcept\u001b[0m \u001b[0merrors\u001b[0m\u001b[0;34m.\u001b[0m\u001b[0mUnsupportedError\u001b[0m \u001b[0;32mas\u001b[0m \u001b[0me\u001b[0m\u001b[0;34m:\u001b[0m\u001b[0;34m\u001b[0m\u001b[0;34m\u001b[0m\u001b[0m\n\u001b[1;32m    470\u001b[0m             \u001b[0;31m# Something unsupported is present in the user code, add help info\u001b[0m\u001b[0;34m\u001b[0m\u001b[0;34m\u001b[0m\u001b[0m\n",
            "\u001b[0;32m/usr/local/lib/python3.10/dist-packages/numba/core/dispatcher.py\u001b[0m in \u001b[0;36merror_rewrite\u001b[0;34m(e, issue_type)\u001b[0m\n\u001b[1;32m    407\u001b[0m                 \u001b[0;32mraise\u001b[0m \u001b[0me\u001b[0m\u001b[0;34m\u001b[0m\u001b[0;34m\u001b[0m\u001b[0m\n\u001b[1;32m    408\u001b[0m             \u001b[0;32melse\u001b[0m\u001b[0;34m:\u001b[0m\u001b[0;34m\u001b[0m\u001b[0;34m\u001b[0m\u001b[0m\n\u001b[0;32m--> 409\u001b[0;31m                 \u001b[0;32mraise\u001b[0m \u001b[0me\u001b[0m\u001b[0;34m.\u001b[0m\u001b[0mwith_traceback\u001b[0m\u001b[0;34m(\u001b[0m\u001b[0;32mNone\u001b[0m\u001b[0;34m)\u001b[0m\u001b[0;34m\u001b[0m\u001b[0;34m\u001b[0m\u001b[0m\n\u001b[0m\u001b[1;32m    410\u001b[0m \u001b[0;34m\u001b[0m\u001b[0m\n\u001b[1;32m    411\u001b[0m         \u001b[0margtypes\u001b[0m \u001b[0;34m=\u001b[0m \u001b[0;34m[\u001b[0m\u001b[0;34m]\u001b[0m\u001b[0;34m\u001b[0m\u001b[0;34m\u001b[0m\u001b[0m\n",
            "\u001b[0;31mTypingError\u001b[0m: Failed in nopython mode pipeline (step: nopython frontend)\nnon-precise type pyobject\nDuring: typing of argument at <ipython-input-18-82c1f8a0b082> (19)\n\nFile \"<ipython-input-18-82c1f8a0b082>\", line 19:\n    def add(self, key, value):\n        if self.count >= self.size * self.threshold:\n        ^ \n\nThis error may have been caused by the following argument(s):\n- argument 0: Cannot determine Numba type of <class '__main__.LinearHash'>\n"
          ]
        }
      ]
    },
    {
      "cell_type": "markdown",
      "source": [],
      "metadata": {
        "id": "pQJMLZ7Sz6YD"
      }
    },
    {
      "cell_type": "markdown",
      "source": [
        "# References\n",
        "- https://www.educative.io/answers/how-to-implement-linear-hashing-in-python\n",
        "- https://www.cs.bu.edu/faculty/gkollios/ada17/LectNotes/linear-hashing.PDF"
      ],
      "metadata": {
        "id": "xNbt5KFCflFZ"
      }
    }
  ]
}